{
 "cells": [
  {
   "cell_type": "code",
   "execution_count": 1,
   "id": "b0f02170-d603-4d28-9b17-aa38a361fb29",
   "metadata": {
    "scrolled": true
   },
   "outputs": [
    {
     "name": "stdin",
     "output_type": "stream",
     "text": [
      "Digite um número 1:  10\n",
      "Digite a operação:  /\n",
      "Digite um número 2:  3\n"
     ]
    },
    {
     "name": "stdout",
     "output_type": "stream",
     "text": [
      "10 / 3 = 3.3333333333333335\n"
     ]
    }
   ],
   "source": [
    "numero1 = 0\n",
    "numero2 = 0\n",
    "resultado = 0\n",
    "operacao = ''\n",
    "\n",
    "# Solicitando os números e a operação ao usuário\n",
    "numero1 = int(input(\"Digite um número 1: \"))\n",
    "operacao = input(\"Digite a operação: \")\n",
    "numero2 = int(input(\"Digite um número 2: \"))\n",
    "\n",
    "# Verificando a operação e calculando o resultado\n",
    "if operacao == '+':\n",
    "    resultado = numero1 + numero2\n",
    "elif operacao == '-':\n",
    "    resultado = numero1 - numero2\n",
    "elif operacao == '/':\n",
    "    resultado = numero1 / numero2\n",
    "elif operacao == '*':\n",
    "    resultado = numero1 * numero2\n",
    "else:\n",
    "    resultado = 'Operação Inválida'\n",
    "\n",
    "# Exibindo o resultado\n",
    "print(str(numero1) + ' ' + str(operacao) + ' ' + str(numero2) + ' = ' + str(resultado))"
   ]
  },
  {
   "cell_type": "code",
   "execution_count": null,
   "id": "ff417184-7e4d-4b41-8c48-bbb9246a5c6e",
   "metadata": {},
   "outputs": [],
   "source": []
  },
  {
   "cell_type": "code",
   "execution_count": null,
   "id": "78f73407-7f37-4b8b-a867-949d88f27640",
   "metadata": {},
   "outputs": [],
   "source": []
  }
 ],
 "metadata": {
  "kernelspec": {
   "display_name": "Python 3 (ipykernel)",
   "language": "python",
   "name": "python3"
  },
  "language_info": {
   "codemirror_mode": {
    "name": "ipython",
    "version": 3
   },
   "file_extension": ".py",
   "mimetype": "text/x-python",
   "name": "python",
   "nbconvert_exporter": "python",
   "pygments_lexer": "ipython3",
   "version": "3.12.4"
  }
 },
 "nbformat": 4,
 "nbformat_minor": 5
}
